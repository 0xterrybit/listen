{
 "cells": [
  {
   "cell_type": "code",
   "execution_count": 4,
   "id": "62ba08cb-d3b3-477b-a0d6-2ba156085ba4",
   "metadata": {},
   "outputs": [],
   "source": [
    "import pandas as pd\n",
    "\n",
    "from watcher import Watcher, Chain\n",
    "from constants import FUCK_ADDRESS\n",
    "\n",
    "watcher = Watcher(chain=Chain.SOL)\n",
    "tokens_invested_response = watcher.grab_tokens_invested(FUCK_ADDRESS)"
   ]
  },
  {
   "cell_type": "code",
   "execution_count": 5,
   "id": "fb54ddc5",
   "metadata": {},
   "outputs": [],
   "source": [
    "df = pd.DataFrame(tokens_invested_response.data[\"holdings\"])"
   ]
  },
  {
   "cell_type": "code",
   "execution_count": 8,
   "id": "b361dad1",
   "metadata": {},
   "outputs": [
    {
     "data": {
      "text/plain": [
       "Index(['address', 'token_address', 'symbol', 'name', 'decimals', 'logo',\n",
       "       'balance', 'usd_value', 'realized_profit_30d', 'realized_profit',\n",
       "       'realized_pnl', 'realized_pnl_30d', 'unrealized_profit',\n",
       "       'unrealized_pnl', 'total_profit', 'total_profit_pnl', 'avg_cost',\n",
       "       'avg_sold', 'buy_30d', 'sell_30d', 'sells', 'price', 'cost',\n",
       "       'position_percent', 'last_active_timestamp', 'history_sold_income',\n",
       "       'history_bought_cost', 'price_change_5m', 'price_change_1h',\n",
       "       'price_change_6h', 'price_change_24h', 'is_following', 'is_show_alert',\n",
       "       'is_honeypot'],\n",
       "      dtype='object')"
      ]
     },
     "execution_count": 8,
     "metadata": {},
     "output_type": "execute_result"
    }
   ],
   "source": [
    "df.columns"
   ]
  },
  {
   "cell_type": "code",
   "execution_count": 15,
   "id": "3283f3c6",
   "metadata": {},
   "outputs": [
    {
     "data": {
      "text/html": [
       "<div>\n",
       "<style scoped>\n",
       "    .dataframe tbody tr th:only-of-type {\n",
       "        vertical-align: middle;\n",
       "    }\n",
       "\n",
       "    .dataframe tbody tr th {\n",
       "        vertical-align: top;\n",
       "    }\n",
       "\n",
       "    .dataframe thead th {\n",
       "        text-align: right;\n",
       "    }\n",
       "</style>\n",
       "<table border=\"1\" class=\"dataframe\">\n",
       "  <thead>\n",
       "    <tr style=\"text-align: right;\">\n",
       "      <th></th>\n",
       "      <th>token_address</th>\n",
       "      <th>symbol</th>\n",
       "      <th>name</th>\n",
       "      <th>realized_profit</th>\n",
       "      <th>cost</th>\n",
       "      <th>history_bought_cost</th>\n",
       "      <th>history_sold_income</th>\n",
       "    </tr>\n",
       "  </thead>\n",
       "  <tbody>\n",
       "    <tr>\n",
       "      <th>0</th>\n",
       "      <td>52ScRbUR7y8AVqkMjE29FJVjDPELSPofJwaXaLHepump</td>\n",
       "      <td>TROLL</td>\n",
       "      <td>Troll by Matt Furie</td>\n",
       "      <td>-3.275838</td>\n",
       "      <td>0.743575</td>\n",
       "      <td>7.43575</td>\n",
       "      <td>3.416337</td>\n",
       "    </tr>\n",
       "    <tr>\n",
       "      <th>1</th>\n",
       "      <td>8CUbzzN5Q9Tnww8ciDTdcCPXVmi8mymAApot9Hyspump</td>\n",
       "      <td>gloop</td>\n",
       "      <td>Gloop By Matt Furie</td>\n",
       "      <td>-3.778678</td>\n",
       "      <td>0.743175</td>\n",
       "      <td>7.43175</td>\n",
       "      <td>2.909897</td>\n",
       "    </tr>\n",
       "    <tr>\n",
       "      <th>2</th>\n",
       "      <td>Fabws3AB7BAowYDywX8Gnb8QBF13TSpSpv3FHUS6pump</td>\n",
       "      <td>SHADES</td>\n",
       "      <td>SHADECREEPER BY MATT FURIE</td>\n",
       "      <td>-3.398939</td>\n",
       "      <td>0.742525</td>\n",
       "      <td>7.42525</td>\n",
       "      <td>3.283786</td>\n",
       "    </tr>\n",
       "    <tr>\n",
       "      <th>3</th>\n",
       "      <td>FLJy5tBAxHnzAC3bodjRAtSxoEGmwniqbgQ9LE7Ppump</td>\n",
       "      <td>BILZ</td>\n",
       "      <td>Dan Bilzerian</td>\n",
       "      <td>-4.386256</td>\n",
       "      <td>0.743525</td>\n",
       "      <td>7.43525</td>\n",
       "      <td>2.305469</td>\n",
       "    </tr>\n",
       "    <tr>\n",
       "      <th>4</th>\n",
       "      <td>84mypPSjeNtXGRe38xJoMrfEfehvu7X8rBSEoDLRbUb1</td>\n",
       "      <td>PEPEZO</td>\n",
       "      <td>ZOGGED PEPE BY MATT FURIE</td>\n",
       "      <td>-5.585620</td>\n",
       "      <td>0.738575</td>\n",
       "      <td>7.38575</td>\n",
       "      <td>1.061555</td>\n",
       "    </tr>\n",
       "  </tbody>\n",
       "</table>\n",
       "</div>"
      ],
      "text/plain": [
       "                                  token_address  symbol  \\\n",
       "0  52ScRbUR7y8AVqkMjE29FJVjDPELSPofJwaXaLHepump   TROLL   \n",
       "1  8CUbzzN5Q9Tnww8ciDTdcCPXVmi8mymAApot9Hyspump   gloop   \n",
       "2  Fabws3AB7BAowYDywX8Gnb8QBF13TSpSpv3FHUS6pump  SHADES   \n",
       "3  FLJy5tBAxHnzAC3bodjRAtSxoEGmwniqbgQ9LE7Ppump    BILZ   \n",
       "4  84mypPSjeNtXGRe38xJoMrfEfehvu7X8rBSEoDLRbUb1  PEPEZO   \n",
       "\n",
       "                         name  realized_profit      cost  history_bought_cost  \\\n",
       "0         Troll by Matt Furie        -3.275838  0.743575              7.43575   \n",
       "1         Gloop By Matt Furie        -3.778678  0.743175              7.43175   \n",
       "2  SHADECREEPER BY MATT FURIE        -3.398939  0.742525              7.42525   \n",
       "3               Dan Bilzerian        -4.386256  0.743525              7.43525   \n",
       "4   ZOGGED PEPE BY MATT FURIE        -5.585620  0.738575              7.38575   \n",
       "\n",
       "   history_sold_income  \n",
       "0             3.416337  \n",
       "1             2.909897  \n",
       "2             3.283786  \n",
       "3             2.305469  \n",
       "4             1.061555  "
      ]
     },
     "execution_count": 15,
     "metadata": {},
     "output_type": "execute_result"
    }
   ],
   "source": [
    "df[[\n",
    "    \"token_address\",\n",
    "    \"symbol\",\n",
    "    \"name\",\n",
    "    \"realized_profit\",\n",
    "    \"cost\",\n",
    "    \"history_bought_cost\",\n",
    "    \"history_sold_income\",\n",
    "]].head()"
   ]
  },
  {
   "cell_type": "markdown",
   "id": "89c5ab33",
   "metadata": {},
   "source": [
    "# Available Data\n",
    "\n",
    "* the socials can be obtained from https://gmgn.ai/defi/quotation/v1/tokens/sol/EYVy8k2a3hw31NTRdQSfKke53KyQfEehRbUVA8SFpump \n",
    "* the general info stuff like burn ratios etc can also be found there, in case one were to use it for non-pump funs\n",
    "* this way the rust bit is just for execution and the crucial information \n",
    "    * about mint authority\n",
    "    * freeze authority \n",
    "    * liquidity pooled is still available\n",
    "* it also contains a key of creator address, the previous rugs if there were any and the creator balance for the token\n",
    "\n",
    "* it is possible to grab holders from that endpoint but that won't be backwards\n",
    "  compatible since it is for real-time the moment of requesting, otherwise this\n",
    "  information could be used during collection of the dataset\n",
    "\n",
    "* https://gmgn.ai/defi/quotation/v1/tokens/top_buyers/sol/EYVy8k2a3hw31NTRdQSfKke53KyQfEehRbUVA8SFpump\n",
    "  => top buyers could be useful if given wallets drive pumps, could be an\n",
    "  important feature\n",
    "\n",
    "* all of the new pump listings can be found here:\n",
    "  https://gmgn.ai/defi/quotation/v1/pairs/sol/new_pairs?limit=50&orderby=open_timestamp&direction=desc&isPump=true&filters[]=not_honeypot&filters[]=pump\n",
    "* interesting idea would be to grab the ones from the last hour and generally\n",
    "  look for 30-50 candles when training the model\n",
    "\n",
    "* then the **socials + top holders + creator information** could be analyzed at the time of snapshot\n",
    "* the https://gmgn.ai/defi/quotation/v1/tokens/tag_wallet_count/sol/EYVy8k2a3hw31NTRdQSfKke53KyQfEehRbUVA8SFpump\n",
    "  information also might be useful\n",
    "\n",
    "* the wss://ws.gmgn.ai/stream?_t=true&tk=API_KEY (seems like) is a nice way of\n",
    "  listening on new trades for a given pair there is information around realized\n",
    "  profits, could be useful"
   ]
  },
  {
   "cell_type": "code",
   "execution_count": 22,
   "id": "48196f72",
   "metadata": {},
   "outputs": [
    {
     "name": "stdout",
     "output_type": "stream",
     "text": [
      "https://gmgn.ai/defi/quotation/v1/tokens/kline/sol/ukHH6c7mMyiWCf1b9pnWe25TSpkDDt3H5pQZgZ74J82\n"
     ]
    }
   ],
   "source": [
    "import time\n",
    "from constants import BOME\n",
    "\n",
    "candles = watcher.get_candles(\n",
    "    BOME, 0, time.time(), \"4h\"\n",
    ")"
   ]
  },
  {
   "cell_type": "code",
   "execution_count": 24,
   "id": "d7ebdfbb",
   "metadata": {},
   "outputs": [
    {
     "data": {
      "text/plain": [
       "16.666666666666668"
      ]
     },
     "execution_count": 24,
     "metadata": {},
     "output_type": "execute_result"
    }
   ],
   "source": [
    "# the above endpoint returns up to 1k candles\n",
    "# this is good, as there is no simple way of finding the creation date without\n",
    "# sending another request\n",
    "\n",
    "# this enables to just send a request for any token that has been around for less than 16 hours\n",
    "# keep the data for first say 12 hours and store that\n",
    "# different intervals can be used\n",
    "1000 / 60\n",
    "\n",
    "# there could be the live stuff used (things described above)"
   ]
  },
  {
   "cell_type": "code",
   "execution_count": 23,
   "id": "ef077464",
   "metadata": {},
   "outputs": [
    {
     "data": {
      "text/plain": [
       "569"
      ]
     },
     "execution_count": 23,
     "metadata": {},
     "output_type": "execute_result"
    }
   ],
   "source": [
    "len(candles.data)"
   ]
  }
 ],
 "metadata": {
  "kernelspec": {
   "display_name": "Python 3",
   "language": "python",
   "name": "python3"
  },
  "language_info": {
   "codemirror_mode": {
    "name": "ipython",
    "version": 3
   },
   "file_extension": ".py",
   "mimetype": "text/x-python",
   "name": "python",
   "nbconvert_exporter": "python",
   "pygments_lexer": "ipython3",
   "version": "3.12.1"
  }
 },
 "nbformat": 4,
 "nbformat_minor": 5
}
